{
 "cells": [
  {
   "cell_type": "markdown",
   "metadata": {},
   "source": [
    "<strong>Python Web Scraping</strong><br> DA320 | Fall 2022| Natalia Sadkov"
   ]
  },
  {
   "cell_type": "code",
   "execution_count": 24,
   "metadata": {},
   "outputs": [],
   "source": [
    "#!/usr/bin/python\n",
    "# import libraries\n",
    "import urllib3\n",
    "import certifi\n"
   ]
  },
  {
   "cell_type": "code",
   "execution_count": 36,
   "metadata": {},
   "outputs": [],
   "source": [
    "# fetch URL for scraping\n",
    "url = 'https://www.metacritic.com/browse/movies/score/metascore/year/filtered?year_selected=2012&sort=desc&view=detailed'\n",
    "# Construct python request pool\n",
    "http = urllib3.PoolManager(ca_certs=certifi.where())\n",
    "# Initiate web request\n",
    "r = http.request('GET', url, headers = {'User-Agent': 'Mozilla/5.0' })"
   ]
  },
  {
   "cell_type": "code",
   "execution_count": 26,
   "metadata": {},
   "outputs": [],
   "source": [
    "#convert result to text\n",
    "datastring = str(r.data,'utf-8')\n"
   ]
  },
  {
   "cell_type": "code",
   "execution_count": 27,
   "metadata": {},
   "outputs": [],
   "source": [
    "# regex web scraping\n",
    "import re\n",
    "#capture titles\n",
    "titles= re.findall('class=\"title\"><h3>(.+)</h3>',datastring)\n",
    "# check result\n",
    "# print(titles)"
   ]
  },
  {
   "cell_type": "code",
   "execution_count": 28,
   "metadata": {},
   "outputs": [],
   "source": [
    "# capture Release dates\n",
    "reldates= re.findall('<span>(.+)</span>',datastring)\n",
    "# check result\n",
    "# print(reldates)"
   ]
  },
  {
   "cell_type": "code",
   "execution_count": 29,
   "metadata": {},
   "outputs": [],
   "source": [
    "# capture Description of the movie \n",
    "descr = re.findall('<div class=\"summary\">\\s+(.+)\\s+',datastring)\n",
    "# check result\n",
    "# print(descr)"
   ]
  },
  {
   "cell_type": "code",
   "execution_count": 30,
   "metadata": {},
   "outputs": [],
   "source": [
    "# Metascore of the movie \n",
    "metascore = re.findall ('<div class=\"clamp-score-wrap\">\\s*.*\\s<div class=\"metascore_w large movie positive\">(\\d\\d)',datastring)\n",
    "# check result\n",
    "# print(metascore)"
   ]
  },
  {
   "cell_type": "code",
   "execution_count": 31,
   "metadata": {},
   "outputs": [],
   "source": [
    "# photo URL \n",
    "photo_url = re.findall(' <a href=\".*<img\\ssrc=\"(https.*)\" alt', datastring)\n",
    "# check result \n",
    "# print(photo_url)"
   ]
  },
  {
   "cell_type": "code",
   "execution_count": 32,
   "metadata": {},
   "outputs": [
    {
     "data": {
      "text/html": [
       "<div>\n",
       "<style scoped>\n",
       "    .dataframe tbody tr th:only-of-type {\n",
       "        vertical-align: middle;\n",
       "    }\n",
       "\n",
       "    .dataframe tbody tr th {\n",
       "        vertical-align: top;\n",
       "    }\n",
       "\n",
       "    .dataframe thead th {\n",
       "        text-align: right;\n",
       "    }\n",
       "</style>\n",
       "<table border=\"1\" class=\"dataframe\">\n",
       "  <thead>\n",
       "    <tr style=\"text-align: right;\">\n",
       "      <th></th>\n",
       "      <th>Title</th>\n",
       "      <th>Release date</th>\n",
       "      <th>Description of the movie</th>\n",
       "      <th>Metascore of the movie</th>\n",
       "      <th>photo URL</th>\n",
       "    </tr>\n",
       "  </thead>\n",
       "  <tbody>\n",
       "    <tr>\n",
       "      <th>0</th>\n",
       "      <td>Children of Paradise (1945)</td>\n",
       "      <td>March 9, 2012</td>\n",
       "      <td>Children of Paradise is the tale of a woman lo...</td>\n",
       "      <td>96</td>\n",
       "      <td>https://static.metacritic.com/images/products/...</td>\n",
       "    </tr>\n",
       "    <tr>\n",
       "      <th>1</th>\n",
       "      <td>Zero Dark Thirty</td>\n",
       "      <td>December 19, 2012</td>\n",
       "      <td>For a decade, an elite team of intelligence an...</td>\n",
       "      <td>95</td>\n",
       "      <td>https://static.metacritic.com/images/products/...</td>\n",
       "    </tr>\n",
       "    <tr>\n",
       "      <th>2</th>\n",
       "      <td>Amour</td>\n",
       "      <td>December 19, 2012</td>\n",
       "      <td>Georges and Anne are in their eighties. They a...</td>\n",
       "      <td>94</td>\n",
       "      <td>https://static.metacritic.com/images/products/...</td>\n",
       "    </tr>\n",
       "    <tr>\n",
       "      <th>3</th>\n",
       "      <td>It's Such a Beautiful Day</td>\n",
       "      <td>October 5, 2012</td>\n",
       "      <td>Bill struggles to put together his shattered p...</td>\n",
       "      <td>90</td>\n",
       "      <td>https://static.metacritic.com/images/products/...</td>\n",
       "    </tr>\n",
       "    <tr>\n",
       "      <th>4</th>\n",
       "      <td>This Is Not a Film</td>\n",
       "      <td>March 2, 2012</td>\n",
       "      <td>This clandestine documentary, shot partially o...</td>\n",
       "      <td>90</td>\n",
       "      <td>https://static.metacritic.com/images/products/...</td>\n",
       "    </tr>\n",
       "    <tr>\n",
       "      <th>...</th>\n",
       "      <td>...</td>\n",
       "      <td>...</td>\n",
       "      <td>...</td>\n",
       "      <td>...</td>\n",
       "      <td>...</td>\n",
       "    </tr>\n",
       "    <tr>\n",
       "      <th>95</th>\n",
       "      <td>Mea Maxima Culpa: Silence in the House of God</td>\n",
       "      <td>November 16, 2012</td>\n",
       "      <td>Alex Gibney examines the charged issue of pedo...</td>\n",
       "      <td>73</td>\n",
       "      <td>https://static.metacritic.com/images/products/...</td>\n",
       "    </tr>\n",
       "    <tr>\n",
       "      <th>96</th>\n",
       "      <td>A Royal Affair</td>\n",
       "      <td>November 9, 2012</td>\n",
       "      <td>A Royal Affair is the true story of an ordinar...</td>\n",
       "      <td>73</td>\n",
       "      <td>https://static.metacritic.com/images/products/...</td>\n",
       "    </tr>\n",
       "    <tr>\n",
       "      <th>97</th>\n",
       "      <td>Attenberg</td>\n",
       "      <td>March 9, 2012</td>\n",
       "      <td>Part of the new wave of Greek cinema, Attenber...</td>\n",
       "      <td>73</td>\n",
       "      <td>https://static.metacritic.com/images/products/...</td>\n",
       "    </tr>\n",
       "    <tr>\n",
       "      <th>98</th>\n",
       "      <td>Knuckleball!</td>\n",
       "      <td>September 21, 2012</td>\n",
       "      <td>The film follows the Major League’s only knuck...</td>\n",
       "      <td>73</td>\n",
       "      <td>https://static.metacritic.com/images/products/...</td>\n",
       "    </tr>\n",
       "    <tr>\n",
       "      <th>99</th>\n",
       "      <td>Sing Your Song</td>\n",
       "      <td>January 13, 2012</td>\n",
       "      <td>Groundbreaking singer, actor and activist Harr...</td>\n",
       "      <td>73</td>\n",
       "      <td>https://static.metacritic.com/images/products/...</td>\n",
       "    </tr>\n",
       "  </tbody>\n",
       "</table>\n",
       "<p>100 rows × 5 columns</p>\n",
       "</div>"
      ],
      "text/plain": [
       "                                            Title        Release date  \\\n",
       "0                     Children of Paradise (1945)       March 9, 2012   \n",
       "1                                Zero Dark Thirty   December 19, 2012   \n",
       "2                                           Amour   December 19, 2012   \n",
       "3                       It's Such a Beautiful Day     October 5, 2012   \n",
       "4                              This Is Not a Film       March 2, 2012   \n",
       "..                                            ...                 ...   \n",
       "95  Mea Maxima Culpa: Silence in the House of God   November 16, 2012   \n",
       "96                                 A Royal Affair    November 9, 2012   \n",
       "97                                      Attenberg       March 9, 2012   \n",
       "98                                   Knuckleball!  September 21, 2012   \n",
       "99                                 Sing Your Song    January 13, 2012   \n",
       "\n",
       "                            Description of the movie  Metascore of the movie  \\\n",
       "0   Children of Paradise is the tale of a woman lo...                     96   \n",
       "1   For a decade, an elite team of intelligence an...                     95   \n",
       "2   Georges and Anne are in their eighties. They a...                     94   \n",
       "3   Bill struggles to put together his shattered p...                     90   \n",
       "4   This clandestine documentary, shot partially o...                     90   \n",
       "..                                                ...                    ...   \n",
       "95  Alex Gibney examines the charged issue of pedo...                     73   \n",
       "96  A Royal Affair is the true story of an ordinar...                     73   \n",
       "97  Part of the new wave of Greek cinema, Attenber...                     73   \n",
       "98  The film follows the Major League’s only knuck...                     73   \n",
       "99  Groundbreaking singer, actor and activist Harr...                     73   \n",
       "\n",
       "                                            photo URL  \n",
       "0   https://static.metacritic.com/images/products/...  \n",
       "1   https://static.metacritic.com/images/products/...  \n",
       "2   https://static.metacritic.com/images/products/...  \n",
       "3   https://static.metacritic.com/images/products/...  \n",
       "4   https://static.metacritic.com/images/products/...  \n",
       "..                                                ...  \n",
       "95  https://static.metacritic.com/images/products/...  \n",
       "96  https://static.metacritic.com/images/products/...  \n",
       "97  https://static.metacritic.com/images/products/...  \n",
       "98  https://static.metacritic.com/images/products/...  \n",
       "99  https://static.metacritic.com/images/products/...  \n",
       "\n",
       "[100 rows x 5 columns]"
      ]
     },
     "execution_count": 32,
     "metadata": {},
     "output_type": "execute_result"
    }
   ],
   "source": [
    "# Convert the data into an array of information about movie\n",
    "import pandas as pd\n",
    "df=pd.DataFrame (list(zip(titles, reldates, descr, metascore, photo_url)), \n",
    "columns = [ 'Title', 'Release date', 'Description of the movie ', 'Metascore of the movie', 'photo URL'])\n",
    "# check result\n",
    "df"
   ]
  },
  {
   "cell_type": "code",
   "execution_count": 34,
   "metadata": {},
   "outputs": [],
   "source": [
    "# save data in a xlsx file on workplace folder\n",
    "df.to_excel (r'movies.xlsx', sheet_name='movies-1', index = False, header=True)\n",
    "\n",
    "\n",
    " "
   ]
  },
  {
   "cell_type": "markdown",
   "metadata": {},
   "source": [
    "<strong> Reference </strong> <br>\n",
    "How to Export Pandas DataFrame to an Excel File https://datatofish.com/export-dataframe-to-excel/ <br>\n",
    "Practical data analytics for movies https://medium.com/codex/practical-data-analytics-for-movies-89f44d04712d<br>\n",
    "The Markdown basix syntax https://www.markdownguide.org/basic-syntax/#paragraph-best-practices <br>\n",
    "DA320 lecture slides\n"
   ]
  },
  {
   "cell_type": "markdown",
   "metadata": {},
   "source": []
  }
 ],
 "metadata": {
  "kernelspec": {
   "display_name": "Python 3.9.7 ('base')",
   "language": "python",
   "name": "python3"
  },
  "language_info": {
   "codemirror_mode": {
    "name": "ipython",
    "version": 3
   },
   "file_extension": ".py",
   "mimetype": "text/x-python",
   "name": "python",
   "nbconvert_exporter": "python",
   "pygments_lexer": "ipython3",
   "version": "3.9.7"
  },
  "orig_nbformat": 4,
  "vscode": {
   "interpreter": {
    "hash": "4692b81938298bd6984a45f4c8002e9bfa80cf0014c94814f9e3213a24de8841"
   }
  }
 },
 "nbformat": 4,
 "nbformat_minor": 2
}

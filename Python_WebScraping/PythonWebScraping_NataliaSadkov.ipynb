{
 "cells": [
  {
   "cell_type": "markdown",
   "metadata": {},
   "source": [
    "Python Web Scraping| DA320 Fall 2022| Natalia Sadkov"
   ]
  },
  {
   "cell_type": "markdown",
   "metadata": {},
   "source": [
    "week 1's scraping assignment:\n",
    "title\tclass=\"title\"><h3>(.+)</h3>\n",
    "Release date\t<span>(.+)</span>\n",
    "Description of the movie \t<div class=\"summary\">\\s+(.+)\\s+\n",
    "Metascore of the movie \t<div class=\"clamp-score-wrap\">.+<div class=\"metascore_w large movie positive\">(\\d+)</div>\n",
    "photo URL \t<td class=\"clamp-image-wrap\">.+<img src=\"(.+)\"\n",
    "\n",
    "\n",
    "Your Jupyter notebook must do the following tasks:\n",
    "\n",
    "Contact Metacritic at the URL of your choosing\n",
    "Retrieve the contents of the page\n",
    "Use the regular expressions you wrote in week 1's scraping assignment to retrieve data from the webpage\n",
    "Convert the data into an array of information about movies\n",
    "Print out the array in a nicely formatted fashion"
   ]
  },
  {
   "cell_type": "code",
   "execution_count": 12,
   "metadata": {},
   "outputs": [],
   "source": [
    "#!/usr/bin/python\n",
    "# import libraries\n",
    "import urllib3\n",
    "import certifi\n"
   ]
  },
  {
   "cell_type": "code",
   "execution_count": 22,
   "metadata": {},
   "outputs": [],
   "source": [
    "# fetch URL for scraping\n",
    "url = 'https://www.metacritic.com/browse/movies/score/metascore/year/filtered?year_selected=2012&sort=desc&view=detailed'\n",
    "# Constracr a python request pool\n",
    "http = urllib3.PoolManager(ca_certs=certifi.where())\n",
    "# Initiate a web request\n",
    "r = http.request('GET', url, headers = {'User-Agent': 'Mozilla/5.0' })"
   ]
  },
  {
   "cell_type": "code",
   "execution_count": 25,
   "metadata": {},
   "outputs": [],
   "source": [
    "#convert result to text\n",
    "datastring = str(r.data,'utf-8')\n"
   ]
  },
  {
   "cell_type": "code",
   "execution_count": 38,
   "metadata": {},
   "outputs": [],
   "source": [
    "# regex web scraping\n",
    "import re\n",
    "#capture titles\n",
    "titles= re.findall('class=\"title\"><h3>(.+)</h3>',datastring)\n",
    "# check result\n",
    "# print(titles)"
   ]
  },
  {
   "cell_type": "code",
   "execution_count": 44,
   "metadata": {},
   "outputs": [],
   "source": [
    "# capture Release dates\n",
    "reldates= re.findall('<span>(.+)</span>',datastring)\n",
    "# check result\n",
    "# print(reldates)"
   ]
  },
  {
   "cell_type": "code",
   "execution_count": 43,
   "metadata": {},
   "outputs": [],
   "source": [
    "# capture Description of the movie \n",
    "descr = re.findall('<div class=\"summary\">\\s+(.+)\\s+',datastring)\n",
    "# check result\n",
    "# print(descr)"
   ]
  },
  {
   "cell_type": "code",
   "execution_count": null,
   "metadata": {},
   "outputs": [],
   "source": []
  }
 ],
 "metadata": {
  "kernelspec": {
   "display_name": "Python 3.9.7 ('base')",
   "language": "python",
   "name": "python3"
  },
  "language_info": {
   "codemirror_mode": {
    "name": "ipython",
    "version": 3
   },
   "file_extension": ".py",
   "mimetype": "text/x-python",
   "name": "python",
   "nbconvert_exporter": "python",
   "pygments_lexer": "ipython3",
   "version": "3.9.7"
  },
  "orig_nbformat": 4,
  "vscode": {
   "interpreter": {
    "hash": "4692b81938298bd6984a45f4c8002e9bfa80cf0014c94814f9e3213a24de8841"
   }
  }
 },
 "nbformat": 4,
 "nbformat_minor": 2
}
